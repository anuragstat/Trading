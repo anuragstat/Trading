{
 "cells": [
  {
   "cell_type": "markdown",
   "id": "5bec9425",
   "metadata": {},
   "source": [
    "# Download End-of-Day NSE Stock Prices"
   ]
  },
  {
   "cell_type": "code",
   "execution_count": 1,
   "id": "0d6cae18",
   "metadata": {},
   "outputs": [],
   "source": [
    "# Import modules\n",
    "# # pip install jugaad-data pandas\n",
    "from nsepy import get_history\n",
    "from datetime import datetime, timedelta\n",
    "import pandas as pd\n",
    "from jugaad_data.holidays import holidays\n",
    "from jugaad_data.nse import bhavcopy_save\n",
    "pd.core.common.is_list_like = pd.api.types.is_list_like #For solving import pandas_datareader issue\n",
    "import numpy as np\n",
    "import datetime\n",
    "import csv\n",
    "import requests\n",
    "import pandas_datareader.data as web\n",
    "import pandas_datareader as pdr\n",
    "from pandas_datareader import data, wb\n",
    "from datetime import date\n",
    "#to plot within notebook\n",
    "import matplotlib.pyplot as plt\n",
    "%matplotlib inline\n",
    "\n",
    "from dateutil.relativedelta import relativedelta\n",
    "\n",
    "import  zipfile, os, io\n",
    "\n",
    "import requests"
   ]
  },
  {
   "cell_type": "code",
   "execution_count": 2,
   "id": "051b3ca3",
   "metadata": {},
   "outputs": [
    {
     "name": "stdout",
     "output_type": "stream",
     "text": [
      "2018-01-01 00:00:00\n",
      "2022-03-08 00:00:00\n"
     ]
    }
   ],
   "source": [
    "path = r\"A:\\FinMinII\\Trading\\NSE_Indices\\Backtest\\bhavcopy\"\n",
    "\n",
    "# # # Input Start and End Date\n",
    "start = datetime.datetime(2018,1,1) # keep the strt date starting from Friday for weekly analysis (Friday is first day for expirty week and month)\n",
    "end = pd.to_datetime('today').normalize() #datetime.datetime(2022,2,2)\n",
    "\n",
    "print(start)\n",
    "print(end)"
   ]
  },
  {
   "cell_type": "code",
   "execution_count": 3,
   "id": "4825f0e6",
   "metadata": {},
   "outputs": [
    {
     "data": {
      "text/plain": [
       "'A:\\\\FinMinII\\\\Trading\\\\NSE_Indices\\\\Backtest\\\\bhavcopy'"
      ]
     },
     "execution_count": 3,
     "metadata": {},
     "output_type": "execute_result"
    }
   ],
   "source": [
    "import os\n",
    "os.getcwd()\n",
    "os.chdir(path)\n",
    "os.getcwd()"
   ]
  },
  {
   "cell_type": "code",
   "execution_count": 4,
   "id": "5456af96",
   "metadata": {},
   "outputs": [],
   "source": [
    "\n",
    "# date_range = pd.bdate_range(start, end , \n",
    "#                          freq='C', holidays = holidays(2020,12))\n",
    "\n",
    "# #bdate = business days (weekends excluded by default)\n",
    "# # start and end dates in \"MM-DD-YYYY\" format\n",
    "# # holidays() function in (year,month) format\n",
    "# #freq = 'C' is for custom\n",
    "\n",
    "# print(date_range)"
   ]
  },
  {
   "cell_type": "code",
   "execution_count": 5,
   "id": "2059a1a9",
   "metadata": {},
   "outputs": [
    {
     "name": "stdout",
     "output_type": "stream",
     "text": [
      "2018\n",
      "2019\n",
      "2020\n",
      "2021\n",
      "2022\n"
     ]
    }
   ],
   "source": [
    "hd = []\n",
    "for i in range (start.year, end.year+1):\n",
    "    print(i)\n",
    "    hd = hd+holidays(i) \n"
   ]
  },
  {
   "cell_type": "code",
   "execution_count": 6,
   "id": "705a9615",
   "metadata": {
    "scrolled": true
   },
   "outputs": [
    {
     "name": "stdout",
     "output_type": "stream",
     "text": [
      "1032\n"
     ]
    }
   ],
   "source": [
    "Working_Dates = pd.bdate_range(start=start, end = end, \n",
    "                    freq='C', holidays = hd)\n",
    "\n",
    "Working_Dates = [x.date() for x in Working_Dates]\n",
    "#This is known as a list comprehension; let's print it out to see what happens\n",
    "\n",
    "print(len(Working_Dates))"
   ]
  },
  {
   "cell_type": "raw",
   "id": "7a2f0b54",
   "metadata": {},
   "source": [
    "Only Run once to download buld bhavcopies"
   ]
  },
  {
   "cell_type": "code",
   "execution_count": 7,
   "id": "2d674b71",
   "metadata": {},
   "outputs": [],
   "source": [
    "# for dt in Working_Dates:\n",
    "#     bhavcopy_save(dt, path)\n",
    "    "
   ]
  },
  {
   "cell_type": "markdown",
   "id": "19586551",
   "metadata": {},
   "source": [
    "# Capture all NSE Bhavcopy (EOD Stock Prices) Files into One File"
   ]
  },
  {
   "cell_type": "code",
   "execution_count": 8,
   "id": "69a13fc2",
   "metadata": {},
   "outputs": [],
   "source": [
    "import glob\n",
    "List_of_Bhavcopies = glob.glob(os.path.join(path,'*bhav.csv'))"
   ]
  },
  {
   "cell_type": "code",
   "execution_count": 9,
   "id": "36ed4a26",
   "metadata": {},
   "outputs": [],
   "source": [
    "bhavcopy_df = pd.read_csv(List_of_Bhavcopies[0])"
   ]
  },
  {
   "cell_type": "code",
   "execution_count": 10,
   "id": "4789871f",
   "metadata": {},
   "outputs": [
    {
     "data": {
      "text/plain": [
       "Index(['SYMBOL', 'SERIES', 'OPEN', 'HIGH', 'LOW', 'CLOSE', 'LAST', 'PREVCLOSE',\n",
       "       'TOTTRDQTY', 'TOTTRDVAL', 'TIMESTAMP', 'TOTALTRADES', 'ISIN',\n",
       "       'Unnamed: 13'],\n",
       "      dtype='object')"
      ]
     },
     "execution_count": 10,
     "metadata": {},
     "output_type": "execute_result"
    }
   ],
   "source": [
    "bhavcopy_df.columns"
   ]
  },
  {
   "cell_type": "code",
   "execution_count": 11,
   "id": "ec36386a",
   "metadata": {},
   "outputs": [],
   "source": [
    "bhavcopy_df.drop(columns = ['Unnamed: 13'],inplace = True)"
   ]
  },
  {
   "cell_type": "code",
   "execution_count": 12,
   "id": "0cc3df7c",
   "metadata": {},
   "outputs": [
    {
     "name": "stdout",
     "output_type": "stream",
     "text": [
      "<class 'pandas.core.frame.DataFrame'>\n",
      "RangeIndex: 1948 entries, 0 to 1947\n",
      "Data columns (total 13 columns):\n",
      " #   Column       Non-Null Count  Dtype  \n",
      "---  ------       --------------  -----  \n",
      " 0   SYMBOL       1948 non-null   object \n",
      " 1   SERIES       1943 non-null   object \n",
      " 2   OPEN         1948 non-null   float64\n",
      " 3   HIGH         1948 non-null   float64\n",
      " 4   LOW          1948 non-null   float64\n",
      " 5   CLOSE        1948 non-null   float64\n",
      " 6   LAST         1948 non-null   float64\n",
      " 7   PREVCLOSE    1948 non-null   float64\n",
      " 8   TOTTRDQTY    1948 non-null   int64  \n",
      " 9   TOTTRDVAL    1948 non-null   float64\n",
      " 10  TIMESTAMP    1948 non-null   object \n",
      " 11  TOTALTRADES  1948 non-null   int64  \n",
      " 12  ISIN         1948 non-null   object \n",
      "dtypes: float64(7), int64(2), object(4)\n",
      "memory usage: 198.0+ KB\n"
     ]
    },
    {
     "data": {
      "text/html": [
       "<div>\n",
       "<style scoped>\n",
       "    .dataframe tbody tr th:only-of-type {\n",
       "        vertical-align: middle;\n",
       "    }\n",
       "\n",
       "    .dataframe tbody tr th {\n",
       "        vertical-align: top;\n",
       "    }\n",
       "\n",
       "    .dataframe thead th {\n",
       "        text-align: right;\n",
       "    }\n",
       "</style>\n",
       "<table border=\"1\" class=\"dataframe\">\n",
       "  <thead>\n",
       "    <tr style=\"text-align: right;\">\n",
       "      <th></th>\n",
       "      <th>SYMBOL</th>\n",
       "      <th>SERIES</th>\n",
       "      <th>OPEN</th>\n",
       "      <th>HIGH</th>\n",
       "      <th>LOW</th>\n",
       "      <th>CLOSE</th>\n",
       "      <th>LAST</th>\n",
       "      <th>PREVCLOSE</th>\n",
       "      <th>TOTTRDQTY</th>\n",
       "      <th>TOTTRDVAL</th>\n",
       "      <th>TIMESTAMP</th>\n",
       "      <th>TOTALTRADES</th>\n",
       "      <th>ISIN</th>\n",
       "    </tr>\n",
       "  </thead>\n",
       "  <tbody>\n",
       "    <tr>\n",
       "      <th>0</th>\n",
       "      <td>1003GS2019</td>\n",
       "      <td>GS</td>\n",
       "      <td>69.66</td>\n",
       "      <td>69.66</td>\n",
       "      <td>69.66</td>\n",
       "      <td>69.66</td>\n",
       "      <td>69.66</td>\n",
       "      <td>73.32</td>\n",
       "      <td>1</td>\n",
       "      <td>6.966000e+01</td>\n",
       "      <td>01-APR-2019</td>\n",
       "      <td>1</td>\n",
       "      <td>IN0020010065</td>\n",
       "    </tr>\n",
       "    <tr>\n",
       "      <th>1</th>\n",
       "      <td>20MICRONS</td>\n",
       "      <td>EQ</td>\n",
       "      <td>39.45</td>\n",
       "      <td>40.55</td>\n",
       "      <td>38.05</td>\n",
       "      <td>40.15</td>\n",
       "      <td>40.10</td>\n",
       "      <td>38.20</td>\n",
       "      <td>70139</td>\n",
       "      <td>2.786821e+06</td>\n",
       "      <td>01-APR-2019</td>\n",
       "      <td>401</td>\n",
       "      <td>INE144J01027</td>\n",
       "    </tr>\n",
       "    <tr>\n",
       "      <th>2</th>\n",
       "      <td>21STCENMGM</td>\n",
       "      <td>EQ</td>\n",
       "      <td>19.60</td>\n",
       "      <td>19.60</td>\n",
       "      <td>19.60</td>\n",
       "      <td>19.60</td>\n",
       "      <td>19.60</td>\n",
       "      <td>19.25</td>\n",
       "      <td>3415</td>\n",
       "      <td>6.693400e+04</td>\n",
       "      <td>01-APR-2019</td>\n",
       "      <td>15</td>\n",
       "      <td>INE253B01015</td>\n",
       "    </tr>\n",
       "    <tr>\n",
       "      <th>3</th>\n",
       "      <td>3IINFOTECH</td>\n",
       "      <td>EQ</td>\n",
       "      <td>3.85</td>\n",
       "      <td>3.90</td>\n",
       "      <td>3.80</td>\n",
       "      <td>3.80</td>\n",
       "      <td>3.85</td>\n",
       "      <td>3.85</td>\n",
       "      <td>1259366</td>\n",
       "      <td>4.840342e+06</td>\n",
       "      <td>01-APR-2019</td>\n",
       "      <td>421</td>\n",
       "      <td>INE748C01020</td>\n",
       "    </tr>\n",
       "    <tr>\n",
       "      <th>4</th>\n",
       "      <td>3MINDIA</td>\n",
       "      <td>EQ</td>\n",
       "      <td>24270.00</td>\n",
       "      <td>24800.00</td>\n",
       "      <td>24099.75</td>\n",
       "      <td>24294.75</td>\n",
       "      <td>24195.00</td>\n",
       "      <td>24260.85</td>\n",
       "      <td>4621</td>\n",
       "      <td>1.133018e+08</td>\n",
       "      <td>01-APR-2019</td>\n",
       "      <td>1150</td>\n",
       "      <td>INE470A01017</td>\n",
       "    </tr>\n",
       "  </tbody>\n",
       "</table>\n",
       "</div>"
      ],
      "text/plain": [
       "       SYMBOL SERIES      OPEN      HIGH       LOW     CLOSE      LAST  \\\n",
       "0  1003GS2019     GS     69.66     69.66     69.66     69.66     69.66   \n",
       "1   20MICRONS     EQ     39.45     40.55     38.05     40.15     40.10   \n",
       "2  21STCENMGM     EQ     19.60     19.60     19.60     19.60     19.60   \n",
       "3  3IINFOTECH     EQ      3.85      3.90      3.80      3.80      3.85   \n",
       "4     3MINDIA     EQ  24270.00  24800.00  24099.75  24294.75  24195.00   \n",
       "\n",
       "   PREVCLOSE  TOTTRDQTY     TOTTRDVAL    TIMESTAMP  TOTALTRADES          ISIN  \n",
       "0      73.32          1  6.966000e+01  01-APR-2019            1  IN0020010065  \n",
       "1      38.20      70139  2.786821e+06  01-APR-2019          401  INE144J01027  \n",
       "2      19.25       3415  6.693400e+04  01-APR-2019           15  INE253B01015  \n",
       "3       3.85    1259366  4.840342e+06  01-APR-2019          421  INE748C01020  \n",
       "4   24260.85       4621  1.133018e+08  01-APR-2019         1150  INE470A01017  "
      ]
     },
     "execution_count": 12,
     "metadata": {},
     "output_type": "execute_result"
    }
   ],
   "source": [
    "\n",
    "bhavcopy_df.info()\n",
    "bhavcopy_df.head()"
   ]
  },
  {
   "cell_type": "code",
   "execution_count": 13,
   "id": "6b9c10c9",
   "metadata": {},
   "outputs": [],
   "source": [
    "# bhavcopy_df.columns = bhavcopy_df.columns.str.replace(' ', '')\n",
    "# #we can only remove whitespace from 'object' datatype\n",
    "# # Hence the if condition in the below otherwise you will get an error\n",
    "# bhavcopy_df = bhavcopy_df.apply(lambda x: x.str.strip() if x.dtype == 'object' else x)"
   ]
  },
  {
   "cell_type": "code",
   "execution_count": 14,
   "id": "eacf902c",
   "metadata": {},
   "outputs": [],
   "source": [
    "# #Converting date column to datetime dtype\n",
    "# bhavcopy_df['TIMESTAMP'] = pd.to_datetime(bhavcopy_df['TIMESTAMP'])\n",
    "\n",
    "# #Setting DATE1 column as index\n",
    "# bhavcopy_df.set_index(['TIMESTAMP'], inplace=True)\n",
    "\n",
    "# #Filtering only for EQ, BE & SM series.\n",
    "# new_bhavcopy_df = bhavcopy_df[bhavcopy_df['SERIES'].isin(['EQ', 'BE', 'SM'])]\n",
    "\n",
    "# #Grabbing the first 5 rows of the new_df\n",
    "# new_bhavcopy_df.head()"
   ]
  },
  {
   "cell_type": "code",
   "execution_count": 15,
   "id": "99316dd3",
   "metadata": {},
   "outputs": [],
   "source": [
    "final_df = pd.DataFrame() #empty dataframe\n",
    "\n",
    "for csv_file in List_of_Bhavcopies:\n",
    "    df = pd.read_csv(csv_file)\n",
    "    df.columns = df.columns.str.replace(' ', '')\n",
    "    df['TIMESTAMP'] = pd.to_datetime(df['TIMESTAMP'])\n",
    "    df.set_index(['TIMESTAMP'], inplace=True)\n",
    "\n",
    "    if 'Unnamed:13' in df.columns:\n",
    "        df.drop(['Unnamed:13'], axis=1, inplace=True)\n",
    "\n",
    "    df_trim = df.apply(lambda x: x.str.strip() if x.dtype == 'object' else x)\n",
    "\n",
    "    new_df = df_trim[df_trim['SERIES'].isin(['EQ', 'BE', 'SM'])]\n",
    "    final_df = final_df.append(new_df)\n",
    "\n",
    "final_df.sort_index(inplace=True) #to sort by dates"
   ]
  },
  {
   "cell_type": "code",
   "execution_count": 16,
   "id": "43735679",
   "metadata": {},
   "outputs": [
    {
     "data": {
      "text/html": [
       "<div>\n",
       "<style scoped>\n",
       "    .dataframe tbody tr th:only-of-type {\n",
       "        vertical-align: middle;\n",
       "    }\n",
       "\n",
       "    .dataframe tbody tr th {\n",
       "        vertical-align: top;\n",
       "    }\n",
       "\n",
       "    .dataframe thead th {\n",
       "        text-align: right;\n",
       "    }\n",
       "</style>\n",
       "<table border=\"1\" class=\"dataframe\">\n",
       "  <thead>\n",
       "    <tr style=\"text-align: right;\">\n",
       "      <th></th>\n",
       "      <th>SYMBOL</th>\n",
       "      <th>SERIES</th>\n",
       "      <th>OPEN</th>\n",
       "      <th>HIGH</th>\n",
       "      <th>LOW</th>\n",
       "      <th>CLOSE</th>\n",
       "      <th>LAST</th>\n",
       "      <th>PREVCLOSE</th>\n",
       "      <th>TOTTRDQTY</th>\n",
       "      <th>TOTTRDVAL</th>\n",
       "      <th>TOTALTRADES</th>\n",
       "      <th>ISIN</th>\n",
       "    </tr>\n",
       "    <tr>\n",
       "      <th>TIMESTAMP</th>\n",
       "      <th></th>\n",
       "      <th></th>\n",
       "      <th></th>\n",
       "      <th></th>\n",
       "      <th></th>\n",
       "      <th></th>\n",
       "      <th></th>\n",
       "      <th></th>\n",
       "      <th></th>\n",
       "      <th></th>\n",
       "      <th></th>\n",
       "      <th></th>\n",
       "    </tr>\n",
       "  </thead>\n",
       "  <tbody>\n",
       "    <tr>\n",
       "      <th>2018-01-01</th>\n",
       "      <td>20MICRONS</td>\n",
       "      <td>EQ</td>\n",
       "      <td>58.95</td>\n",
       "      <td>60.7</td>\n",
       "      <td>57.9</td>\n",
       "      <td>58.75</td>\n",
       "      <td>58.70</td>\n",
       "      <td>58.30</td>\n",
       "      <td>156506</td>\n",
       "      <td>9.316661e+06</td>\n",
       "      <td>1527</td>\n",
       "      <td>INE144J01027</td>\n",
       "    </tr>\n",
       "    <tr>\n",
       "      <th>2018-01-01</th>\n",
       "      <td>PILANIINVS</td>\n",
       "      <td>BE</td>\n",
       "      <td>3210.00</td>\n",
       "      <td>3248.0</td>\n",
       "      <td>3170.0</td>\n",
       "      <td>3178.75</td>\n",
       "      <td>3170.00</td>\n",
       "      <td>3186.65</td>\n",
       "      <td>559</td>\n",
       "      <td>1.795369e+06</td>\n",
       "      <td>74</td>\n",
       "      <td>INE417C01014</td>\n",
       "    </tr>\n",
       "    <tr>\n",
       "      <th>2018-01-01</th>\n",
       "      <td>PIIND</td>\n",
       "      <td>EQ</td>\n",
       "      <td>968.80</td>\n",
       "      <td>968.8</td>\n",
       "      <td>952.0</td>\n",
       "      <td>958.65</td>\n",
       "      <td>956.35</td>\n",
       "      <td>962.50</td>\n",
       "      <td>15293</td>\n",
       "      <td>1.469429e+07</td>\n",
       "      <td>1114</td>\n",
       "      <td>INE603J01030</td>\n",
       "    </tr>\n",
       "    <tr>\n",
       "      <th>2018-01-01</th>\n",
       "      <td>PIDILITIND</td>\n",
       "      <td>EQ</td>\n",
       "      <td>904.95</td>\n",
       "      <td>908.8</td>\n",
       "      <td>898.0</td>\n",
       "      <td>900.00</td>\n",
       "      <td>900.80</td>\n",
       "      <td>902.20</td>\n",
       "      <td>160477</td>\n",
       "      <td>1.448900e+08</td>\n",
       "      <td>5062</td>\n",
       "      <td>INE318A01026</td>\n",
       "    </tr>\n",
       "    <tr>\n",
       "      <th>2018-01-01</th>\n",
       "      <td>PHOENIXLTD</td>\n",
       "      <td>EQ</td>\n",
       "      <td>649.80</td>\n",
       "      <td>664.4</td>\n",
       "      <td>627.0</td>\n",
       "      <td>633.65</td>\n",
       "      <td>631.00</td>\n",
       "      <td>626.95</td>\n",
       "      <td>136550</td>\n",
       "      <td>8.903390e+07</td>\n",
       "      <td>4562</td>\n",
       "      <td>INE211B01039</td>\n",
       "    </tr>\n",
       "  </tbody>\n",
       "</table>\n",
       "</div>"
      ],
      "text/plain": [
       "                SYMBOL SERIES     OPEN    HIGH     LOW    CLOSE     LAST  \\\n",
       "TIMESTAMP                                                                  \n",
       "2018-01-01   20MICRONS     EQ    58.95    60.7    57.9    58.75    58.70   \n",
       "2018-01-01  PILANIINVS     BE  3210.00  3248.0  3170.0  3178.75  3170.00   \n",
       "2018-01-01       PIIND     EQ   968.80   968.8   952.0   958.65   956.35   \n",
       "2018-01-01  PIDILITIND     EQ   904.95   908.8   898.0   900.00   900.80   \n",
       "2018-01-01  PHOENIXLTD     EQ   649.80   664.4   627.0   633.65   631.00   \n",
       "\n",
       "            PREVCLOSE  TOTTRDQTY     TOTTRDVAL  TOTALTRADES          ISIN  \n",
       "TIMESTAMP                                                                  \n",
       "2018-01-01      58.30     156506  9.316661e+06         1527  INE144J01027  \n",
       "2018-01-01    3186.65        559  1.795369e+06           74  INE417C01014  \n",
       "2018-01-01     962.50      15293  1.469429e+07         1114  INE603J01030  \n",
       "2018-01-01     902.20     160477  1.448900e+08         5062  INE318A01026  \n",
       "2018-01-01     626.95     136550  8.903390e+07         4562  INE211B01039  "
      ]
     },
     "execution_count": 16,
     "metadata": {},
     "output_type": "execute_result"
    }
   ],
   "source": [
    "final_df.head()"
   ]
  },
  {
   "cell_type": "code",
   "execution_count": null,
   "id": "fef18d53",
   "metadata": {},
   "outputs": [],
   "source": []
  }
 ],
 "metadata": {
  "kernelspec": {
   "display_name": "Python 3 (ipykernel)",
   "language": "python",
   "name": "python3"
  },
  "language_info": {
   "codemirror_mode": {
    "name": "ipython",
    "version": 3
   },
   "file_extension": ".py",
   "mimetype": "text/x-python",
   "name": "python",
   "nbconvert_exporter": "python",
   "pygments_lexer": "ipython3",
   "version": "3.7.11"
  }
 },
 "nbformat": 4,
 "nbformat_minor": 5
}
