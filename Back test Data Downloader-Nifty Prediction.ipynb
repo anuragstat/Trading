{
 "cells": [
  {
   "cell_type": "markdown",
   "metadata": {},
   "source": [
    "https://factsbeyondnumbers.wordpress.com/2020/06/18/extracting-daily-stock-price-data-in-python/\n",
    "\n",
    "download the scanner csv from chartink( only premium chartink gives all historical data, free users can get only 9 months  limited data)\n",
    "download all historical data using this python script to know next day or previous day price action\n",
    "check the outcome using this script and get the result of backtest"
   ]
  },
  {
   "cell_type": "code",
   "execution_count": 9,
   "metadata": {},
   "outputs": [],
   "source": [
    "# Import modules\n",
    "from nsepy import get_history\n",
    "from datetime import datetime, timedelta\n",
    "import pandas as pd\n",
    "pd.core.common.is_list_like = pd.api.types.is_list_like #For solving import pandas_datareader issue\n",
    "import numpy as np\n",
    "import datetime\n",
    "import csv\n",
    "import requests\n",
    "import pandas_datareader.data as web\n",
    "import pandas_datareader as pdr\n",
    "from pandas_datareader import data, wb\n",
    "from datetime import date\n",
    "#to plot within notebook\n",
    "import matplotlib.pyplot as plt\n",
    "%matplotlib inline"
   ]
  },
  {
   "cell_type": "code",
   "execution_count": 10,
   "metadata": {},
   "outputs": [
    {
     "name": "stdout",
     "output_type": "stream",
     "text": [
      "2011-01-07 00:00:00\n",
      "2022-03-08 00:00:00\n"
     ]
    }
   ],
   "source": [
    "path = r\"A:\\FinMinII\\Trading\\NSE_Indices\\Backtest\\Nifty_Backtest\"\n",
    "file = \"Backtest RSI and Nifty.csv\"#\n",
    "\n",
    "\n",
    "# # # Input Start and End Date\n",
    "start = datetime.datetime(2011,1,7) # keep the strt date starting from Friday for weekly analysis (Friday is first day for expirty week and month)\n",
    "end = pd.to_datetime('today').normalize() #datetime.datetime(2022,2,2)\n",
    "\n",
    "print(start)\n",
    "print(end)"
   ]
  },
  {
   "cell_type": "code",
   "execution_count": 11,
   "metadata": {},
   "outputs": [
    {
     "data": {
      "text/plain": [
       "'A:\\\\FinMinII\\\\Trading\\\\NSE_Indices\\\\Backtest\\\\Nifty_Backtest'"
      ]
     },
     "execution_count": 11,
     "metadata": {},
     "output_type": "execute_result"
    }
   ],
   "source": [
    "import os\n",
    "os.getcwd()\n",
    "os.chdir(path)\n",
    "os.getcwd()"
   ]
  },
  {
   "cell_type": "code",
   "execution_count": 12,
   "metadata": {},
   "outputs": [],
   "source": [
    "NIFTY_opt = get_history(symbol=\"NIFTY\",\n",
    "                        start=start,\n",
    "                        end=end,\n",
    "                        index=True)"
   ]
  },
  {
   "cell_type": "code",
   "execution_count": 13,
   "metadata": {},
   "outputs": [
    {
     "data": {
      "text/html": [
       "<div>\n",
       "<style scoped>\n",
       "    .dataframe tbody tr th:only-of-type {\n",
       "        vertical-align: middle;\n",
       "    }\n",
       "\n",
       "    .dataframe tbody tr th {\n",
       "        vertical-align: top;\n",
       "    }\n",
       "\n",
       "    .dataframe thead th {\n",
       "        text-align: right;\n",
       "    }\n",
       "</style>\n",
       "<table border=\"1\" class=\"dataframe\">\n",
       "  <thead>\n",
       "    <tr style=\"text-align: right;\">\n",
       "      <th></th>\n",
       "      <th>Open</th>\n",
       "      <th>High</th>\n",
       "      <th>Low</th>\n",
       "      <th>Close</th>\n",
       "      <th>Volume</th>\n",
       "      <th>Turnover</th>\n",
       "    </tr>\n",
       "    <tr>\n",
       "      <th>Date</th>\n",
       "      <th></th>\n",
       "      <th></th>\n",
       "      <th></th>\n",
       "      <th></th>\n",
       "      <th></th>\n",
       "      <th></th>\n",
       "    </tr>\n",
       "  </thead>\n",
       "  <tbody>\n",
       "    <tr>\n",
       "      <th>2022-02-15</th>\n",
       "      <td>16933.25</td>\n",
       "      <td>17375.00</td>\n",
       "      <td>16839.25</td>\n",
       "      <td>17352.45</td>\n",
       "      <td>298658142.0</td>\n",
       "      <td>2.476567e+11</td>\n",
       "    </tr>\n",
       "    <tr>\n",
       "      <th>2022-02-16</th>\n",
       "      <td>17408.45</td>\n",
       "      <td>17490.60</td>\n",
       "      <td>17257.70</td>\n",
       "      <td>17322.20</td>\n",
       "      <td>244549223.0</td>\n",
       "      <td>2.112838e+11</td>\n",
       "    </tr>\n",
       "    <tr>\n",
       "      <th>2022-02-17</th>\n",
       "      <td>17396.55</td>\n",
       "      <td>17442.90</td>\n",
       "      <td>17235.85</td>\n",
       "      <td>17304.60</td>\n",
       "      <td>232136131.0</td>\n",
       "      <td>1.938126e+11</td>\n",
       "    </tr>\n",
       "    <tr>\n",
       "      <th>2022-02-18</th>\n",
       "      <td>17236.05</td>\n",
       "      <td>17380.80</td>\n",
       "      <td>17219.20</td>\n",
       "      <td>17276.30</td>\n",
       "      <td>189620888.0</td>\n",
       "      <td>1.612696e+11</td>\n",
       "    </tr>\n",
       "    <tr>\n",
       "      <th>2022-02-21</th>\n",
       "      <td>17192.25</td>\n",
       "      <td>17351.05</td>\n",
       "      <td>17070.70</td>\n",
       "      <td>17206.65</td>\n",
       "      <td>215183301.0</td>\n",
       "      <td>1.872557e+11</td>\n",
       "    </tr>\n",
       "    <tr>\n",
       "      <th>2022-02-22</th>\n",
       "      <td>16847.95</td>\n",
       "      <td>17148.55</td>\n",
       "      <td>16843.80</td>\n",
       "      <td>17092.20</td>\n",
       "      <td>300131995.0</td>\n",
       "      <td>2.404084e+11</td>\n",
       "    </tr>\n",
       "    <tr>\n",
       "      <th>2022-02-23</th>\n",
       "      <td>17194.50</td>\n",
       "      <td>17220.70</td>\n",
       "      <td>17027.85</td>\n",
       "      <td>17063.25</td>\n",
       "      <td>200229631.0</td>\n",
       "      <td>1.766247e+11</td>\n",
       "    </tr>\n",
       "    <tr>\n",
       "      <th>2022-02-24</th>\n",
       "      <td>16548.90</td>\n",
       "      <td>16705.25</td>\n",
       "      <td>16203.25</td>\n",
       "      <td>16247.95</td>\n",
       "      <td>457967874.0</td>\n",
       "      <td>3.665083e+11</td>\n",
       "    </tr>\n",
       "    <tr>\n",
       "      <th>2022-02-25</th>\n",
       "      <td>16515.65</td>\n",
       "      <td>16748.80</td>\n",
       "      <td>16478.30</td>\n",
       "      <td>16658.40</td>\n",
       "      <td>329780732.0</td>\n",
       "      <td>2.574377e+11</td>\n",
       "    </tr>\n",
       "    <tr>\n",
       "      <th>2022-02-28</th>\n",
       "      <td>16481.60</td>\n",
       "      <td>16815.90</td>\n",
       "      <td>16356.30</td>\n",
       "      <td>16793.90</td>\n",
       "      <td>404214666.0</td>\n",
       "      <td>3.383157e+11</td>\n",
       "    </tr>\n",
       "    <tr>\n",
       "      <th>2022-03-02</th>\n",
       "      <td>16593.10</td>\n",
       "      <td>16678.50</td>\n",
       "      <td>16478.65</td>\n",
       "      <td>16605.95</td>\n",
       "      <td>517723542.0</td>\n",
       "      <td>3.940744e+11</td>\n",
       "    </tr>\n",
       "    <tr>\n",
       "      <th>2022-03-03</th>\n",
       "      <td>16723.20</td>\n",
       "      <td>16768.95</td>\n",
       "      <td>16442.95</td>\n",
       "      <td>16498.05</td>\n",
       "      <td>0.0</td>\n",
       "      <td>0.000000e+00</td>\n",
       "    </tr>\n",
       "    <tr>\n",
       "      <th>2022-03-04</th>\n",
       "      <td>16339.45</td>\n",
       "      <td>16456.00</td>\n",
       "      <td>16133.80</td>\n",
       "      <td>16245.35</td>\n",
       "      <td>456143040.0</td>\n",
       "      <td>3.482110e+11</td>\n",
       "    </tr>\n",
       "    <tr>\n",
       "      <th>2022-03-07</th>\n",
       "      <td>15867.95</td>\n",
       "      <td>15944.60</td>\n",
       "      <td>15711.45</td>\n",
       "      <td>15863.15</td>\n",
       "      <td>NaN</td>\n",
       "      <td>NaN</td>\n",
       "    </tr>\n",
       "    <tr>\n",
       "      <th>2022-03-08</th>\n",
       "      <td>15747.75</td>\n",
       "      <td>16028.75</td>\n",
       "      <td>15671.45</td>\n",
       "      <td>16013.45</td>\n",
       "      <td>543600673.0</td>\n",
       "      <td>3.870440e+11</td>\n",
       "    </tr>\n",
       "  </tbody>\n",
       "</table>\n",
       "</div>"
      ],
      "text/plain": [
       "                Open      High       Low     Close       Volume      Turnover\n",
       "Date                                                                         \n",
       "2022-02-15  16933.25  17375.00  16839.25  17352.45  298658142.0  2.476567e+11\n",
       "2022-02-16  17408.45  17490.60  17257.70  17322.20  244549223.0  2.112838e+11\n",
       "2022-02-17  17396.55  17442.90  17235.85  17304.60  232136131.0  1.938126e+11\n",
       "2022-02-18  17236.05  17380.80  17219.20  17276.30  189620888.0  1.612696e+11\n",
       "2022-02-21  17192.25  17351.05  17070.70  17206.65  215183301.0  1.872557e+11\n",
       "2022-02-22  16847.95  17148.55  16843.80  17092.20  300131995.0  2.404084e+11\n",
       "2022-02-23  17194.50  17220.70  17027.85  17063.25  200229631.0  1.766247e+11\n",
       "2022-02-24  16548.90  16705.25  16203.25  16247.95  457967874.0  3.665083e+11\n",
       "2022-02-25  16515.65  16748.80  16478.30  16658.40  329780732.0  2.574377e+11\n",
       "2022-02-28  16481.60  16815.90  16356.30  16793.90  404214666.0  3.383157e+11\n",
       "2022-03-02  16593.10  16678.50  16478.65  16605.95  517723542.0  3.940744e+11\n",
       "2022-03-03  16723.20  16768.95  16442.95  16498.05          0.0  0.000000e+00\n",
       "2022-03-04  16339.45  16456.00  16133.80  16245.35  456143040.0  3.482110e+11\n",
       "2022-03-07  15867.95  15944.60  15711.45  15863.15          NaN           NaN\n",
       "2022-03-08  15747.75  16028.75  15671.45  16013.45  543600673.0  3.870440e+11"
      ]
     },
     "execution_count": 13,
     "metadata": {},
     "output_type": "execute_result"
    }
   ],
   "source": [
    "NIFTY_opt.tail(15)"
   ]
  },
  {
   "cell_type": "code",
   "execution_count": 14,
   "metadata": {},
   "outputs": [
    {
     "data": {
      "text/plain": [
       "array([[<AxesSubplot:title={'center':'Close'}>]], dtype=object)"
      ]
     },
     "execution_count": 14,
     "metadata": {},
     "output_type": "execute_result"
    },
    {
     "data": {
      "image/png": "[encoded data removed]",
      "text/plain": [
       "<Figure size 432x288 with 1 Axes>"
      ]
     },
     "metadata": {
      "needs_background": "light"
     },
     "output_type": "display_data"
    }
   ],
   "source": [
    "NIFTY_opt.hist(column = 'Close')"
   ]
  },
  {
   "cell_type": "code",
   "execution_count": 15,
   "metadata": {},
   "outputs": [],
   "source": [
    "dfdata = NIFTY_opt\n",
    "dfdata.reset_index(level=0, inplace=True)\n",
    "\n",
    "# dfdata = dfdata [['Date','Close']]\n"
   ]
  },
  {
   "cell_type": "code",
   "execution_count": 16,
   "metadata": {},
   "outputs": [],
   "source": [
    "dfdata = dfdata [['Date','Open','Close']] \n",
    "# dfdata ['Date'] = pd.<a onclick=\"parent.postMessage({'referent':'.pandas.to_datetime'}, '*')\">to_datetime(dfdata['Date'].apply(lambda x: x.split()[0])) \n",
    "dfdata .set_index('Date',drop=True,inplace=True) \n"
   ]
  },
  {
   "cell_type": "code",
   "execution_count": 17,
   "metadata": {},
   "outputs": [
    {
     "data": {
      "text/html": [
       "<div>\n",
       "<style scoped>\n",
       "    .dataframe tbody tr th:only-of-type {\n",
       "        vertical-align: middle;\n",
       "    }\n",
       "\n",
       "    .dataframe tbody tr th {\n",
       "        vertical-align: top;\n",
       "    }\n",
       "\n",
       "    .dataframe thead th {\n",
       "        text-align: right;\n",
       "    }\n",
       "</style>\n",
       "<table border=\"1\" class=\"dataframe\">\n",
       "  <thead>\n",
       "    <tr style=\"text-align: right;\">\n",
       "      <th></th>\n",
       "      <th>Open</th>\n",
       "      <th>Close</th>\n",
       "    </tr>\n",
       "    <tr>\n",
       "      <th>Date</th>\n",
       "      <th></th>\n",
       "      <th></th>\n",
       "    </tr>\n",
       "  </thead>\n",
       "  <tbody>\n",
       "    <tr>\n",
       "      <th>2022-03-02</th>\n",
       "      <td>16593.10</td>\n",
       "      <td>16605.95</td>\n",
       "    </tr>\n",
       "    <tr>\n",
       "      <th>2022-03-03</th>\n",
       "      <td>16723.20</td>\n",
       "      <td>16498.05</td>\n",
       "    </tr>\n",
       "    <tr>\n",
       "      <th>2022-03-04</th>\n",
       "      <td>16339.45</td>\n",
       "      <td>16245.35</td>\n",
       "    </tr>\n",
       "    <tr>\n",
       "      <th>2022-03-07</th>\n",
       "      <td>15867.95</td>\n",
       "      <td>15863.15</td>\n",
       "    </tr>\n",
       "    <tr>\n",
       "      <th>2022-03-08</th>\n",
       "      <td>15747.75</td>\n",
       "      <td>16013.45</td>\n",
       "    </tr>\n",
       "  </tbody>\n",
       "</table>\n",
       "</div>"
      ],
      "text/plain": [
       "                Open     Close\n",
       "Date                          \n",
       "2022-03-02  16593.10  16605.95\n",
       "2022-03-03  16723.20  16498.05\n",
       "2022-03-04  16339.45  16245.35\n",
       "2022-03-07  15867.95  15863.15\n",
       "2022-03-08  15747.75  16013.45"
      ]
     },
     "execution_count": 17,
     "metadata": {},
     "output_type": "execute_result"
    }
   ],
   "source": [
    "dfdata .tail()"
   ]
  },
  {
   "cell_type": "code",
   "execution_count": 18,
   "metadata": {},
   "outputs": [
    {
     "name": "stderr",
     "output_type": "stream",
     "text": [
      "Using TensorFlow backend.\n"
     ]
    }
   ],
   "source": [
    "#importing required libraries\n",
    "from sklearn.preprocessing import MinMaxScaler\n",
    "from keras.models import Sequential\n",
    "from keras.layers import Dense, Dropout, LSTM"
   ]
  },
  {
   "cell_type": "code",
   "execution_count": 19,
   "metadata": {},
   "outputs": [],
   "source": [
    "#creating dataframe\n",
    "data = NIFTY_opt.sort_index(ascending=True, axis=0)\n",
    "new_data = pd.DataFrame(index=range(0,len(NIFTY_opt)),columns=['Date', 'Close'])\n",
    "for i in range(0,len(data)):\n",
    "    new_data['Date'][i] = data['Date'][i]\n",
    "    new_data['Close'][i] = data['Close'][i]"
   ]
  },
  {
   "cell_type": "code",
   "execution_count": 20,
   "metadata": {},
   "outputs": [
    {
     "name": "stdout",
     "output_type": "stream",
     "text": [
      "<class 'pandas.core.frame.DataFrame'>\n",
      "RangeIndex: 2767 entries, 0 to 2766\n",
      "Data columns (total 2 columns):\n",
      " #   Column  Non-Null Count  Dtype \n",
      "---  ------  --------------  ----- \n",
      " 0   Date    2767 non-null   object\n",
      " 1   Close   2767 non-null   object\n",
      "dtypes: object(2)\n",
      "memory usage: 43.4+ KB\n"
     ]
    }
   ],
   "source": [
    "new_data.info()"
   ]
  },
  {
   "cell_type": "code",
   "execution_count": 22,
   "metadata": {},
   "outputs": [
    {
     "data": {
      "text/html": [
       "<div>\n",
       "<style scoped>\n",
       "    .dataframe tbody tr th:only-of-type {\n",
       "        vertical-align: middle;\n",
       "    }\n",
       "\n",
       "    .dataframe tbody tr th {\n",
       "        vertical-align: top;\n",
       "    }\n",
       "\n",
       "    .dataframe thead th {\n",
       "        text-align: right;\n",
       "    }\n",
       "</style>\n",
       "<table border=\"1\" class=\"dataframe\">\n",
       "  <thead>\n",
       "    <tr style=\"text-align: right;\">\n",
       "      <th></th>\n",
       "      <th>Date</th>\n",
       "      <th>Close</th>\n",
       "    </tr>\n",
       "  </thead>\n",
       "  <tbody>\n",
       "    <tr>\n",
       "      <th>2762</th>\n",
       "      <td>2022-03-02</td>\n",
       "      <td>16605.95</td>\n",
       "    </tr>\n",
       "    <tr>\n",
       "      <th>2763</th>\n",
       "      <td>2022-03-03</td>\n",
       "      <td>16498.05</td>\n",
       "    </tr>\n",
       "    <tr>\n",
       "      <th>2764</th>\n",
       "      <td>2022-03-04</td>\n",
       "      <td>16245.35</td>\n",
       "    </tr>\n",
       "    <tr>\n",
       "      <th>2765</th>\n",
       "      <td>2022-03-07</td>\n",
       "      <td>15863.15</td>\n",
       "    </tr>\n",
       "    <tr>\n",
       "      <th>2766</th>\n",
       "      <td>2022-03-08</td>\n",
       "      <td>16013.45</td>\n",
       "    </tr>\n",
       "  </tbody>\n",
       "</table>\n",
       "</div>"
      ],
      "text/plain": [
       "            Date     Close\n",
       "2762  2022-03-02  16605.95\n",
       "2763  2022-03-03  16498.05\n",
       "2764  2022-03-04  16245.35\n",
       "2765  2022-03-07  15863.15\n",
       "2766  2022-03-08  16013.45"
      ]
     },
     "execution_count": 22,
     "metadata": {},
     "output_type": "execute_result"
    }
   ],
   "source": [
    "new_data.tail(5)"
   ]
  },
  {
   "cell_type": "code",
   "execution_count": 23,
   "metadata": {},
   "outputs": [],
   "source": [
    "#setting index\n",
    "new_data.index = new_data.Date\n",
    "new_data.drop('Date', axis=1, inplace=True)"
   ]
  },
  {
   "cell_type": "code",
   "execution_count": 24,
   "metadata": {},
   "outputs": [
    {
     "data": {
      "text/html": [
       "<div>\n",
       "<style scoped>\n",
       "    .dataframe tbody tr th:only-of-type {\n",
       "        vertical-align: middle;\n",
       "    }\n",
       "\n",
       "    .dataframe tbody tr th {\n",
       "        vertical-align: top;\n",
       "    }\n",
       "\n",
       "    .dataframe thead th {\n",
       "        text-align: right;\n",
       "    }\n",
       "</style>\n",
       "<table border=\"1\" class=\"dataframe\">\n",
       "  <thead>\n",
       "    <tr style=\"text-align: right;\">\n",
       "      <th></th>\n",
       "      <th>Close</th>\n",
       "    </tr>\n",
       "    <tr>\n",
       "      <th>Date</th>\n",
       "      <th></th>\n",
       "    </tr>\n",
       "  </thead>\n",
       "  <tbody>\n",
       "    <tr>\n",
       "      <th>2022-03-02</th>\n",
       "      <td>16605.95</td>\n",
       "    </tr>\n",
       "    <tr>\n",
       "      <th>2022-03-03</th>\n",
       "      <td>16498.05</td>\n",
       "    </tr>\n",
       "    <tr>\n",
       "      <th>2022-03-04</th>\n",
       "      <td>16245.35</td>\n",
       "    </tr>\n",
       "    <tr>\n",
       "      <th>2022-03-07</th>\n",
       "      <td>15863.15</td>\n",
       "    </tr>\n",
       "    <tr>\n",
       "      <th>2022-03-08</th>\n",
       "      <td>16013.45</td>\n",
       "    </tr>\n",
       "  </tbody>\n",
       "</table>\n",
       "</div>"
      ],
      "text/plain": [
       "               Close\n",
       "Date                \n",
       "2022-03-02  16605.95\n",
       "2022-03-03  16498.05\n",
       "2022-03-04  16245.35\n",
       "2022-03-07  15863.15\n",
       "2022-03-08  16013.45"
      ]
     },
     "execution_count": 24,
     "metadata": {},
     "output_type": "execute_result"
    }
   ],
   "source": [
    "new_data.tail(5)"
   ]
  },
  {
   "cell_type": "code",
   "execution_count": 25,
   "metadata": {},
   "outputs": [],
   "source": [
    "#creating train and test sets\n",
    "dataset = new_data.values\n",
    "\n",
    "train, valid= np.split(new_data, [int(.7 *len(new_data))])\n",
    "# train = dataset[0:987,:]\n",
    "# valid = dataset[987:,:]"
   ]
  },
  {
   "cell_type": "code",
   "execution_count": 27,
   "metadata": {},
   "outputs": [
    {
     "data": {
      "text/plain": [
       "array([[5904.6],\n",
       "       [5762.85],\n",
       "       [5754.1],\n",
       "       ...,\n",
       "       [16245.35],\n",
       "       [15863.15],\n",
       "       [16013.45]], dtype=object)"
      ]
     },
     "execution_count": 27,
     "metadata": {},
     "output_type": "execute_result"
    }
   ],
   "source": []
  },
  {
   "cell_type": "code",
   "execution_count": 16,
   "metadata": {},
   "outputs": [
    {
     "name": "stdout",
     "output_type": "stream",
     "text": [
      "Epoch 1/1\n",
      " - 5s - loss: 0.0166\n"
     ]
    }
   ],
   "source": [
    "#converting dataset into x_train and y_train\n",
    "scaler = MinMaxScaler(feature_range=(0, 1))\n",
    "scaled_data = scaler.fit_transform(dataset)\n",
    "\n",
    "x_train, y_train = [], []\n",
    "for i in range(60,len(train)):\n",
    "    x_train.append(scaled_data[i-60:i,0])\n",
    "    y_train.append(scaled_data[i,0])\n",
    "x_train, y_train = np.array(x_train), np.array(y_train)\n",
    "\n",
    "x_train = np.reshape(x_train, (x_train.shape[0],x_train.shape[1],1))\n",
    "\n",
    "# create and fit the LSTM network\n",
    "model = Sequential()\n",
    "model.add(LSTM(units=50, return_sequences=True, input_shape=(x_train.shape[1],1)))\n",
    "model.add(LSTM(units=50))\n",
    "model.add(Dense(1))\n",
    "\n",
    "model.compile(loss='mean_squared_error', optimizer='adam')\n",
    "model.fit(x_train, y_train, epochs=1, batch_size=1, verbose=2)\n",
    "\n",
    "#predicting 246 values, using past 60 from the train data\n",
    "inputs = new_data[len(new_data) - len(valid) - 60:].values\n",
    "inputs = inputs.reshape(-1,1)\n",
    "inputs  = scaler.transform(inputs)\n",
    "\n",
    "X_test = []\n",
    "for i in range(60,inputs.shape[0]):\n",
    "    X_test.append(inputs[i-60:i,0])\n",
    "X_test = np.array(X_test)\n",
    "\n",
    "X_test = np.reshape(X_test, (X_test.shape[0],X_test.shape[1],1))\n",
    "closing_price = model.predict(X_test)\n",
    "closing_price = scaler.inverse_transform(closing_price)"
   ]
  },
  {
   "cell_type": "code",
   "execution_count": 17,
   "metadata": {},
   "outputs": [
    {
     "data": {
      "text/plain": [
       "Close    420.856471\n",
       "dtype: float64"
      ]
     },
     "execution_count": 17,
     "metadata": {},
     "output_type": "execute_result"
    }
   ],
   "source": [
    "# Results\n",
    "rms=np.sqrt(np.mean(np.power((valid-closing_price),2)))\n",
    "rms"
   ]
  },
  {
   "cell_type": "code",
   "execution_count": 18,
   "metadata": {},
   "outputs": [
    {
     "data": {
      "text/plain": [
       "[<matplotlib.lines.Line2D at 0x2dafa8bde88>,\n",
       " <matplotlib.lines.Line2D at 0x2dafa8c7448>]"
      ]
     },
     "execution_count": 18,
     "metadata": {},
     "output_type": "execute_result"
    },
    {
     "data": {
      "image/png": "[encoded data removed]",
      "text/plain": [
       "<Figure size 432x288 with 1 Axes>"
      ]
     },
     "metadata": {
      "needs_background": "light"
     },
     "output_type": "display_data"
    }
   ],
   "source": [
    "#for plotting\n",
    "# train = new_data[:987]\n",
    "# valid = new_data[987:]\n",
    "\n",
    "train, valid= np.split(new_data, [int(.7 *len(new_data))])\n",
    "valid['Predictions'] = closing_price\n",
    "plt.plot(train['Close'])\n",
    "plt.plot(valid[['Close','Predictions']])"
   ]
  },
  {
   "cell_type": "code",
   "execution_count": null,
   "metadata": {},
   "outputs": [],
   "source": []
  }
 ],
 "metadata": {
  "kernelspec": {
   "display_name": "Python 3 (ipykernel)",
   "language": "python",
   "name": "python3"
  },
  "language_info": {
   "codemirror_mode": {
    "name": "ipython",
    "version": 3
   },
   "file_extension": ".py",
   "mimetype": "text/x-python",
   "name": "python",
   "nbconvert_exporter": "python",
   "pygments_lexer": "ipython3",
   "version": "3.7.11"
  }
 },
 "nbformat": 4,
 "nbformat_minor": 4
}
