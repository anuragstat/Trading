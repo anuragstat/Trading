{
 "cells": [
  {
   "cell_type": "markdown",
   "metadata": {},
   "source": [
    "https://factsbeyondnumbers.wordpress.com/2020/06/18/extracting-daily-stock-price-data-in-python/\n",
    "\n",
    "download the scanner csv from chartink( only premium chartink gives all historical data, free users can get only 9 months  limited data)\n",
    "download all historical data using this python script to know next day or previous day price action\n",
    "check the outcome using this script and get the result of backtest"
   ]
  },
  {
   "cell_type": "code",
   "execution_count": 35,
   "metadata": {},
   "outputs": [],
   "source": [
    "# Import modules\n",
    "from nsepy import get_history\n",
    "from datetime import datetime, timedelta\n",
    "import pandas as pd\n",
    "pd.core.common.is_list_like = pd.api.types.is_list_like #For solving import pandas_datareader issue\n",
    "import numpy as np\n",
    "import datetime\n",
    "import csv\n",
    "import requests\n",
    "import pandas_datareader.data as web\n",
    "import pandas_datareader as pdr\n",
    "from pandas_datareader import data, wb\n",
    "from datetime import date"
   ]
  },
  {
   "cell_type": "code",
   "execution_count": 36,
   "metadata": {},
   "outputs": [],
   "source": [
    "# import urllib3\n",
    "# http = urllib3.PoolManager(num_pools=1000)"
   ]
  },
  {
   "cell_type": "code",
   "execution_count": 37,
   "metadata": {},
   "outputs": [],
   "source": [
    "path = r\"A:\\FinMinII\\Trading\\NSE_Indices\\Backtest\\Nifty_Backtest\"\n",
    "file = \"Backtest RSI and Nifty.csv\"#\n",
    "\n",
    "\n",
    "# # # Input Start and End Date\n",
    "start = datetime.datetime(2016,1,1)\n",
    "end = datetime.datetime(2022,2,2)"
   ]
  },
  {
   "cell_type": "code",
   "execution_count": 38,
   "metadata": {},
   "outputs": [
    {
     "data": {
      "text/plain": [
       "'A:\\\\FinMinII\\\\Trading\\\\NSE_Indices\\\\Backtest\\\\Nifty_Backtest'"
      ]
     },
     "execution_count": 38,
     "metadata": {},
     "output_type": "execute_result"
    }
   ],
   "source": [
    "import os\n",
    "os.getcwd()\n",
    "os.chdir(path)\n",
    "os.getcwd()"
   ]
  },
  {
   "cell_type": "code",
   "execution_count": 39,
   "metadata": {},
   "outputs": [
    {
     "name": "stdout",
     "output_type": "stream",
     "text": [
      "   date symbol  marketcapname  sector\n",
      "0   NaN  NIFTY            NaN     NaN\n",
      "1   NaN    NaN            NaN     NaN\n",
      "2   NaN    NaN            NaN     NaN\n",
      "3   NaN    NaN            NaN     NaN\n",
      "4   NaN    NaN            NaN     NaN\n"
     ]
    }
   ],
   "source": [
    "# Reading Backtest Data\n",
    "df = pd.read_csv(file)\n",
    "print(df.head())"
   ]
  },
  {
   "cell_type": "code",
   "execution_count": 40,
   "metadata": {},
   "outputs": [],
   "source": [
    "#Sorting out the diffrent date format issues and converting them into NSE format\n",
    "df['date'] = pd.to_datetime(df['date'],dayfirst=True)\n",
    "df['date'].dt.strftime('%m-%d-%Y')\n",
    "df['date'] = pd.to_datetime(df['date'],dayfirst=True).dt.date\n",
    "df['date'] = df['date'].astype('datetime64')"
   ]
  },
  {
   "cell_type": "code",
   "execution_count": 41,
   "metadata": {},
   "outputs": [],
   "source": [
    "symbol = df[\"symbol\"].unique().tolist()"
   ]
  },
  {
   "cell_type": "code",
   "execution_count": 42,
   "metadata": {},
   "outputs": [
    {
     "name": "stdout",
     "output_type": "stream",
     "text": [
      "['NIFTY', nan]\n"
     ]
    }
   ],
   "source": [
    "print(symbol)"
   ]
  },
  {
   "cell_type": "code",
   "execution_count": 43,
   "metadata": {},
   "outputs": [],
   "source": [
    "# # Input Start and End Date\n",
    "# start = min(df[\"date\"])\n",
    "# end = max(df[\"date\"])"
   ]
  },
  {
   "cell_type": "code",
   "execution_count": 44,
   "metadata": {},
   "outputs": [],
   "source": [
    "# b. Do some variable and parameter setting to run a loop\n",
    "data1=[]\n",
    "data1 = pd.DataFrame(data1)\n",
    "counter = 0"
   ]
  },
  {
   "cell_type": "code",
   "execution_count": 45,
   "metadata": {},
   "outputs": [
    {
     "name": "stderr",
     "output_type": "stream",
     "text": [
      "WARNING - Connection pool is full, discarding connection: www1.nseindia.com\n",
      "WARNING - Connection pool is full, discarding connection: www1.nseindia.com\n",
      "WARNING - Connection pool is full, discarding connection: www1.nseindia.com\n",
      "WARNING - Connection pool is full, discarding connection: www1.nseindia.com\n",
      "WARNING - Connection pool is full, discarding connection: www1.nseindia.com\n",
      "WARNING - Connection pool is full, discarding connection: www1.nseindia.com\n",
      "WARNING - Connection pool is full, discarding connection: www1.nseindia.com\n",
      "WARNING - Connection pool is full, discarding connection: www1.nseindia.com\n",
      "WARNING - Connection pool is full, discarding connection: www1.nseindia.com\n",
      "WARNING - Connection pool is full, discarding connection: www1.nseindia.com\n",
      "WARNING - Connection pool is full, discarding connection: www1.nseindia.com\n",
      "WARNING - Connection pool is full, discarding connection: www1.nseindia.com\n"
     ]
    }
   ],
   "source": [
    "# start = df['date'].min()\n",
    "# end = df['date'].max()\n",
    "\n",
    "# c. Run loop to extract price volume data. Mention your start date and end date as per # need.\n",
    "for x in symbol:\n",
    "    data = get_history(x,start,end)\n",
    "    data = pd.DataFrame(data)\n",
    "    data1 = pd.concat([data1,data]) \n",
    "#     print(x)\n",
    "# pd.DataFrame(data1.append(data))\n",
    "\n",
    "\n",
    "# pd.DataFrame(data2.append(data))\n",
    "# print(data1)"
   ]
  },
  {
   "cell_type": "code",
   "execution_count": 46,
   "metadata": {},
   "outputs": [],
   "source": [
    "#renaming column name as per output provided by NSE to help to merge data later\n",
    "df.rename(columns = {'date': 'Date', 'symbol': 'Symbol'}, inplace = True)"
   ]
  },
  {
   "cell_type": "code",
   "execution_count": 47,
   "metadata": {},
   "outputs": [],
   "source": [
    "#setting Date column from index to DF column\n",
    "data1.reset_index(inplace=True)\n",
    "data1 = data1.rename(columns = {'Index':'Date'})\n",
    "\n",
    "df['Date'] = pd.to_datetime(df['Date'])\n",
    "data1['Date'] = pd.to_datetime(data1['Date'])\n",
    "\n"
   ]
  },
  {
   "cell_type": "code",
   "execution_count": 48,
   "metadata": {},
   "outputs": [],
   "source": [
    "# data1['Date'] = pd.to_datetime(data1['Date'],dayfirst=True)\n",
    "# data1['Date'].dt.strftime('%m-%d-%Y')"
   ]
  },
  {
   "cell_type": "code",
   "execution_count": 49,
   "metadata": {},
   "outputs": [],
   "source": [
    "# d. Write data to your local drive in a csv format\n",
    "\n",
    "# data1.to_csv(‘first_Daily_price.csv’, index=True)\n",
    "data1.to_csv('Backtest_Data_Downloaded.csv',index=False)"
   ]
  },
  {
   "cell_type": "code",
   "execution_count": 19,
   "metadata": {},
   "outputs": [],
   "source": [
    "# Adding one day in original date as Chartink shows one day less in backtest data (formation of 9th Jul is shown as on 8th Jul)\n",
    "df['Date'] = df['Date'] + timedelta(1)"
   ]
  },
  {
   "cell_type": "code",
   "execution_count": null,
   "metadata": {},
   "outputs": [],
   "source": [
    "EntryDay = pd.merge(df, data1, on=['Date','Symbol'])\n",
    "EntryDay.head()\n",
    "EntryDay.to_csv(\"EntryDay.csv\")"
   ]
  },
  {
   "cell_type": "code",
   "execution_count": null,
   "metadata": {},
   "outputs": [],
   "source": [
    "EntryDay[\"ExitDate\"] = EntryDay[\"Date\"] + timedelta(1) # this is BTS stratgy hence nextd day, for other stragey please spesifiy the exat day number\n",
    "data1[\"ExitDate\"] = data1[\"Date\"] # creating one more column in downloaded data to use in a key to merge"
   ]
  },
  {
   "cell_type": "code",
   "execution_count": null,
   "metadata": {},
   "outputs": [],
   "source": [
    "ExitDay = pd.merge(EntryDay, data1, on=['ExitDate','Symbol'])"
   ]
  },
  {
   "cell_type": "code",
   "execution_count": null,
   "metadata": {},
   "outputs": [],
   "source": [
    "# mylist = [\"Date_x\",\"Symbol\",\"marketcapname\",\"sector\",\"Prev Close_x\",\"Open_x\",\"High_x\",\"Low_x\",\"Last_x\",\"Close_x\",\"NextDate\",\"Date_y\",\"Series_y\",\"Prev Close_y\",\"Open_y\",\"High_y\",\"Low_y\",\"Last_y\",\"Close_y\"]\n"
   ]
  },
  {
   "cell_type": "code",
   "execution_count": null,
   "metadata": {},
   "outputs": [],
   "source": [
    "ExitDay = ExitDay[[\"Date_x\",\"Symbol\",\"marketcapname\",\"sector\",\"Prev Close_x\",\"Open_x\",\"High_x\",\"Low_x\",\"Last_x\",\"Close_x\",\"ExitDate\",\"Date_y\",\"Series_y\",\"Prev Close_y\",\"Open_y\",\"High_y\",\"Low_y\",\"Last_y\",\"Close_y\"]]"
   ]
  },
  {
   "cell_type": "code",
   "execution_count": null,
   "metadata": {},
   "outputs": [],
   "source": [
    "ExitDay.head()"
   ]
  },
  {
   "cell_type": "code",
   "execution_count": null,
   "metadata": {},
   "outputs": [],
   "source": [
    "ExitDay.to_csv(\"OP_Nify_data.csv\")"
   ]
  },
  {
   "cell_type": "code",
   "execution_count": null,
   "metadata": {},
   "outputs": [],
   "source": [
    "NIFTY_opt = get_history(symbol=\"NIFTY\",\n",
    "                        start=date(2011,1,1),\n",
    "                        end=date(2021,7,22),\n",
    "                        index=True)"
   ]
  },
  {
   "cell_type": "code",
   "execution_count": null,
   "metadata": {},
   "outputs": [],
   "source": [
    "NIFTY_opt.to_csv(\"OP_NIFTY_data_10Years_25012021.csv\")"
   ]
  },
  {
   "cell_type": "code",
   "execution_count": null,
   "metadata": {},
   "outputs": [],
   "source": []
  }
 ],
 "metadata": {
  "kernelspec": {
   "display_name": "Python 3",
   "language": "python",
   "name": "python3"
  },
  "language_info": {
   "codemirror_mode": {
    "name": "ipython",
    "version": 3
   },
   "file_extension": ".py",
   "mimetype": "text/x-python",
   "name": "python",
   "nbconvert_exporter": "python",
   "pygments_lexer": "ipython3",
   "version": "3.7.6"
  }
 },
 "nbformat": 4,
 "nbformat_minor": 4
}
