{
 "cells": [
  {
   "cell_type": "markdown",
   "metadata": {},
   "source": [
    "https://factsbeyondnumbers.wordpress.com/2020/06/18/extracting-daily-stock-price-data-in-python/\n",
    "\n",
    "download the scanner csv from chartink( only premium chartink gives all historical data, free users can get only 9 months  limited data)\n",
    "download all historical data using this python script to know next day or previous day price action\n",
    "check the outcome using this script and get the result of backtest"
   ]
  },
  {
   "cell_type": "code",
   "execution_count": 23,
   "metadata": {},
   "outputs": [],
   "source": [
    "# Import modules\n",
    "from nsepy import get_history\n",
    "from datetime import datetime, timedelta\n",
    "import pandas as pd\n",
    "pd.core.common.is_list_like = pd.api.types.is_list_like #For solving import pandas_datareader issue\n",
    "import numpy as np\n",
    "import datetime\n",
    "import csv\n",
    "import requests\n",
    "import pandas_datareader.data as web\n",
    "import pandas_datareader as pdr\n",
    "from pandas_datareader import data, wb\n",
    "from datetime import date\n",
    "#to plot within notebook\n",
    "import matplotlib.pyplot as plt\n",
    "%matplotlib inline"
   ]
  },
  {
   "cell_type": "code",
   "execution_count": 24,
   "metadata": {},
   "outputs": [
    {
     "name": "stdout",
     "output_type": "stream",
     "text": [
      "2011-01-07 00:00:00\n",
      "2022-03-08 00:00:00\n"
     ]
    }
   ],
   "source": [
    "path = r\"A:\\FinMinII\\Trading\\NSE_Indices\\Backtest\\Nifty_Backtest\"\n",
    "file = \"Backtest RSI and Nifty.csv\"#\n",
    "\n",
    "\n",
    "# # # Input Start and End Date\n",
    "start = datetime.datetime(2011,1,7) # keep the strt date starting from Friday for weekly analysis (Friday is first day for expirty week and month)\n",
    "end = pd.to_datetime('today').normalize() #datetime.datetime(2022,2,2)\n",
    "\n",
    "print(start)\n",
    "print(end)"
   ]
  },
  {
   "cell_type": "code",
   "execution_count": 3,
   "metadata": {},
   "outputs": [
    {
     "data": {
      "text/plain": [
       "'A:\\\\FinMinII\\\\Trading\\\\NSE_Indices\\\\Backtest\\\\Nifty_Backtest'"
      ]
     },
     "execution_count": 3,
     "metadata": {},
     "output_type": "execute_result"
    }
   ],
   "source": [
    "import os\n",
    "os.getcwd()\n",
    "os.chdir(path)\n",
    "os.getcwd()"
   ]
  },
  {
   "cell_type": "code",
   "execution_count": 4,
   "metadata": {},
   "outputs": [],
   "source": [
    "NIFTY_Org = get_history(symbol=\"NIFTY\",\n",
    "                        start=start,\n",
    "                        end=end,\n",
    "                        index=True)\n",
    "\n"
   ]
  },
  {
   "cell_type": "code",
   "execution_count": 5,
   "metadata": {},
   "outputs": [],
   "source": [
    "NIFTY_DF = NIFTY_Org.reset_index(level=['Date'])\n",
    "NIFTY_DF['Date'] = pd.to_datetime(NIFTY_DF['Date'])\n"
   ]
  },
  {
   "cell_type": "markdown",
   "metadata": {},
   "source": [
    "# Nifty Daily Analysis from NIFTY_Org Data"
   ]
  },
  {
   "cell_type": "code",
   "execution_count": 6,
   "metadata": {},
   "outputs": [],
   "source": [
    "# drop rows from Nifty Dataframe where close price is not available, possibelly they are holidays.\n",
    "NIFTY_Dly = NIFTY_DF.copy()\n",
    "NIFTY_Dly.dropna(subset = [\"Close\"], inplace=True)"
   ]
  },
  {
   "cell_type": "code",
   "execution_count": 7,
   "metadata": {},
   "outputs": [
    {
     "data": {
      "text/html": [
       "<div>\n",
       "<style scoped>\n",
       "    .dataframe tbody tr th:only-of-type {\n",
       "        vertical-align: middle;\n",
       "    }\n",
       "\n",
       "    .dataframe tbody tr th {\n",
       "        vertical-align: top;\n",
       "    }\n",
       "\n",
       "    .dataframe thead th {\n",
       "        text-align: right;\n",
       "    }\n",
       "</style>\n",
       "<table border=\"1\" class=\"dataframe\">\n",
       "  <thead>\n",
       "    <tr style=\"text-align: right;\">\n",
       "      <th></th>\n",
       "      <th>Date</th>\n",
       "      <th>Open</th>\n",
       "      <th>High</th>\n",
       "      <th>Low</th>\n",
       "      <th>Close</th>\n",
       "      <th>Volume</th>\n",
       "      <th>Turnover</th>\n",
       "      <th>124_DSMA</th>\n",
       "    </tr>\n",
       "  </thead>\n",
       "  <tbody>\n",
       "    <tr>\n",
       "      <th>2765</th>\n",
       "      <td>2022-03-07</td>\n",
       "      <td>15867.95</td>\n",
       "      <td>15944.60</td>\n",
       "      <td>15711.45</td>\n",
       "      <td>15863.15</td>\n",
       "      <td>NaN</td>\n",
       "      <td>NaN</td>\n",
       "      <td>17529.058871</td>\n",
       "    </tr>\n",
       "    <tr>\n",
       "      <th>2766</th>\n",
       "      <td>2022-03-08</td>\n",
       "      <td>15747.75</td>\n",
       "      <td>16028.75</td>\n",
       "      <td>15671.45</td>\n",
       "      <td>16013.45</td>\n",
       "      <td>NaN</td>\n",
       "      <td>NaN</td>\n",
       "      <td>17518.182661</td>\n",
       "    </tr>\n",
       "  </tbody>\n",
       "</table>\n",
       "</div>"
      ],
      "text/plain": [
       "           Date      Open      High       Low     Close  Volume  Turnover  \\\n",
       "2765 2022-03-07  15867.95  15944.60  15711.45  15863.15     NaN       NaN   \n",
       "2766 2022-03-08  15747.75  16028.75  15671.45  16013.45     NaN       NaN   \n",
       "\n",
       "          124_DSMA  \n",
       "2765  17529.058871  \n",
       "2766  17518.182661  "
      ]
     },
     "execution_count": 7,
     "metadata": {},
     "output_type": "execute_result"
    }
   ],
   "source": [
    "# Calculating moving average, below is for 124 period to calculate SRT rest also can be calculated\n",
    "NIFTY_Dly['124_DSMA'] = NIFTY_Dly['Close'].rolling(window=124).mean()\n",
    "\n",
    "\n",
    "NIFTY_Dly.tail(2)"
   ]
  },
  {
   "cell_type": "code",
   "execution_count": 8,
   "metadata": {},
   "outputs": [
    {
     "data": {
      "text/html": [
       "<div>\n",
       "<style scoped>\n",
       "    .dataframe tbody tr th:only-of-type {\n",
       "        vertical-align: middle;\n",
       "    }\n",
       "\n",
       "    .dataframe tbody tr th {\n",
       "        vertical-align: top;\n",
       "    }\n",
       "\n",
       "    .dataframe thead th {\n",
       "        text-align: right;\n",
       "    }\n",
       "</style>\n",
       "<table border=\"1\" class=\"dataframe\">\n",
       "  <thead>\n",
       "    <tr style=\"text-align: right;\">\n",
       "      <th></th>\n",
       "      <th>Date</th>\n",
       "      <th>Open</th>\n",
       "      <th>High</th>\n",
       "      <th>Low</th>\n",
       "      <th>Close</th>\n",
       "      <th>Volume</th>\n",
       "      <th>Turnover</th>\n",
       "      <th>124_DSMA</th>\n",
       "      <th>SRT</th>\n",
       "    </tr>\n",
       "  </thead>\n",
       "  <tbody>\n",
       "    <tr>\n",
       "      <th>2765</th>\n",
       "      <td>2022-03-07</td>\n",
       "      <td>15867.95</td>\n",
       "      <td>15944.60</td>\n",
       "      <td>15711.45</td>\n",
       "      <td>15863.15</td>\n",
       "      <td>NaN</td>\n",
       "      <td>NaN</td>\n",
       "      <td>17529.058871</td>\n",
       "      <td>0.904963</td>\n",
       "    </tr>\n",
       "    <tr>\n",
       "      <th>2766</th>\n",
       "      <td>2022-03-08</td>\n",
       "      <td>15747.75</td>\n",
       "      <td>16028.75</td>\n",
       "      <td>15671.45</td>\n",
       "      <td>16013.45</td>\n",
       "      <td>NaN</td>\n",
       "      <td>NaN</td>\n",
       "      <td>17518.182661</td>\n",
       "      <td>0.914105</td>\n",
       "    </tr>\n",
       "  </tbody>\n",
       "</table>\n",
       "</div>"
      ],
      "text/plain": [
       "           Date      Open      High       Low     Close  Volume  Turnover  \\\n",
       "2765 2022-03-07  15867.95  15944.60  15711.45  15863.15     NaN       NaN   \n",
       "2766 2022-03-08  15747.75  16028.75  15671.45  16013.45     NaN       NaN   \n",
       "\n",
       "          124_DSMA       SRT  \n",
       "2765  17529.058871  0.904963  \n",
       "2766  17518.182661  0.914105  "
      ]
     },
     "execution_count": 8,
     "metadata": {},
     "output_type": "execute_result"
    }
   ],
   "source": [
    "# Calculating SRT for each day\n",
    "NIFTY_Dly['SRT'] = NIFTY_Dly['Close']/NIFTY_Dly['124_DSMA']\n",
    "\n",
    "NIFTY_Dly.tail(2)\n"
   ]
  },
  {
   "cell_type": "markdown",
   "metadata": {},
   "source": [
    "# Nifty Weekly Analysis from NIFTY_Org Data"
   ]
  },
  {
   "cell_type": "code",
   "execution_count": 9,
   "metadata": {},
   "outputs": [],
   "source": [
    "# # Creating Historical date data frame to handle holidays\n",
    "\n",
    "# DS = pd.date_range(start=start, end=end)\n",
    "# Nifty_Historical_DF = pd.DataFrame({'Date': DS})"
   ]
  },
  {
   "cell_type": "code",
   "execution_count": 10,
   "metadata": {},
   "outputs": [],
   "source": [
    "NIFTY_Wkly = NIFTY_DF.copy()"
   ]
  },
  {
   "cell_type": "code",
   "execution_count": 11,
   "metadata": {},
   "outputs": [
    {
     "data": {
      "text/html": [
       "<div>\n",
       "<style scoped>\n",
       "    .dataframe tbody tr th:only-of-type {\n",
       "        vertical-align: middle;\n",
       "    }\n",
       "\n",
       "    .dataframe tbody tr th {\n",
       "        vertical-align: top;\n",
       "    }\n",
       "\n",
       "    .dataframe thead th {\n",
       "        text-align: right;\n",
       "    }\n",
       "</style>\n",
       "<table border=\"1\" class=\"dataframe\">\n",
       "  <thead>\n",
       "    <tr style=\"text-align: right;\">\n",
       "      <th></th>\n",
       "      <th>Date</th>\n",
       "      <th>Open</th>\n",
       "      <th>High</th>\n",
       "      <th>Low</th>\n",
       "      <th>Close</th>\n",
       "      <th>Volume</th>\n",
       "      <th>Turnover</th>\n",
       "    </tr>\n",
       "  </thead>\n",
       "  <tbody>\n",
       "    <tr>\n",
       "      <th>0</th>\n",
       "      <td>2011-01-07</td>\n",
       "      <td>6030.9</td>\n",
       "      <td>6051.20</td>\n",
       "      <td>5883.60</td>\n",
       "      <td>5904.60</td>\n",
       "      <td>171809106.0</td>\n",
       "      <td>8.325790e+10</td>\n",
       "    </tr>\n",
       "    <tr>\n",
       "      <th>1</th>\n",
       "      <td>2011-01-10</td>\n",
       "      <td>5901.3</td>\n",
       "      <td>5907.25</td>\n",
       "      <td>5740.95</td>\n",
       "      <td>5762.85</td>\n",
       "      <td>156945855.0</td>\n",
       "      <td>7.920380e+10</td>\n",
       "    </tr>\n",
       "  </tbody>\n",
       "</table>\n",
       "</div>"
      ],
      "text/plain": [
       "        Date    Open     High      Low    Close       Volume      Turnover\n",
       "0 2011-01-07  6030.9  6051.20  5883.60  5904.60  171809106.0  8.325790e+10\n",
       "1 2011-01-10  5901.3  5907.25  5740.95  5762.85  156945855.0  7.920380e+10"
      ]
     },
     "execution_count": 11,
     "metadata": {},
     "output_type": "execute_result"
    }
   ],
   "source": [
    "NIFTY_Wkly.head(2)"
   ]
  },
  {
   "cell_type": "code",
   "execution_count": 12,
   "metadata": {},
   "outputs": [
    {
     "name": "stderr",
     "output_type": "stream",
     "text": [
      "C:\\Users\\Anurag\\anaconda3\\lib\\site-packages\\ipykernel_launcher.py:2: FutureWarning: Series.dt.weekofyear and Series.dt.week have been deprecated.  Please use Series.dt.isocalendar().week instead.\n",
      "  \n"
     ]
    },
    {
     "data": {
      "text/html": [
       "<div>\n",
       "<style scoped>\n",
       "    .dataframe tbody tr th:only-of-type {\n",
       "        vertical-align: middle;\n",
       "    }\n",
       "\n",
       "    .dataframe tbody tr th {\n",
       "        vertical-align: top;\n",
       "    }\n",
       "\n",
       "    .dataframe thead th {\n",
       "        text-align: right;\n",
       "    }\n",
       "</style>\n",
       "<table border=\"1\" class=\"dataframe\">\n",
       "  <thead>\n",
       "    <tr style=\"text-align: right;\">\n",
       "      <th></th>\n",
       "      <th></th>\n",
       "      <th>Year</th>\n",
       "      <th>Open</th>\n",
       "      <th>High</th>\n",
       "      <th>Low</th>\n",
       "      <th>Close</th>\n",
       "      <th>Volume</th>\n",
       "    </tr>\n",
       "    <tr>\n",
       "      <th>Year</th>\n",
       "      <th>Week_Number</th>\n",
       "      <th></th>\n",
       "      <th></th>\n",
       "      <th></th>\n",
       "      <th></th>\n",
       "      <th></th>\n",
       "      <th></th>\n",
       "    </tr>\n",
       "  </thead>\n",
       "  <tbody>\n",
       "    <tr>\n",
       "      <th rowspan=\"2\" valign=\"top\">2022</th>\n",
       "      <th>9</th>\n",
       "      <td>2022</td>\n",
       "      <td>16481.60</td>\n",
       "      <td>16815.90</td>\n",
       "      <td>16133.80</td>\n",
       "      <td>16245.35</td>\n",
       "      <td>1.378081e+09</td>\n",
       "    </tr>\n",
       "    <tr>\n",
       "      <th>10</th>\n",
       "      <td>2022</td>\n",
       "      <td>15867.95</td>\n",
       "      <td>16028.75</td>\n",
       "      <td>15671.45</td>\n",
       "      <td>16013.45</td>\n",
       "      <td>0.000000e+00</td>\n",
       "    </tr>\n",
       "  </tbody>\n",
       "</table>\n",
       "</div>"
      ],
      "text/plain": [
       "                  Year      Open      High       Low     Close        Volume\n",
       "Year Week_Number                                                            \n",
       "2022 9            2022  16481.60  16815.90  16133.80  16245.35  1.378081e+09\n",
       "     10           2022  15867.95  16028.75  15671.45  16013.45  0.000000e+00"
      ]
     },
     "execution_count": 12,
     "metadata": {},
     "output_type": "execute_result"
    }
   ],
   "source": [
    "# Getting week number\n",
    "NIFTY_Wkly['Week_Number'] = NIFTY_Wkly['Date'].dt.week\n",
    "# Getting year. Weeknum is common across years to we need to create unique index by using year and weeknum\n",
    "NIFTY_Wkly['Year'] = NIFTY_Wkly['Date'].dt.year\n",
    "\n",
    "NIFTY_Wkly['Day_of_Week'] = NIFTY_Wkly['Date'].dt.day_name()\n",
    "\n",
    "# Grouping based on required values\n",
    "NIFTY_Wkly_Grp = NIFTY_Wkly.groupby(['Year','Week_Number']).agg({'Year':'first','Open':'first', 'High':'max', 'Low':'min', 'Close':'last','Volume':'sum'})\n",
    "NIFTY_Wkly_Grp.tail(2)"
   ]
  },
  {
   "cell_type": "code",
   "execution_count": 13,
   "metadata": {},
   "outputs": [
    {
     "data": {
      "text/html": [
       "<div>\n",
       "<style scoped>\n",
       "    .dataframe tbody tr th:only-of-type {\n",
       "        vertical-align: middle;\n",
       "    }\n",
       "\n",
       "    .dataframe tbody tr th {\n",
       "        vertical-align: top;\n",
       "    }\n",
       "\n",
       "    .dataframe thead th {\n",
       "        text-align: right;\n",
       "    }\n",
       "</style>\n",
       "<table border=\"1\" class=\"dataframe\">\n",
       "  <thead>\n",
       "    <tr style=\"text-align: right;\">\n",
       "      <th></th>\n",
       "      <th></th>\n",
       "      <th>Year</th>\n",
       "      <th>Open</th>\n",
       "      <th>High</th>\n",
       "      <th>Low</th>\n",
       "      <th>Close</th>\n",
       "      <th>Volume</th>\n",
       "      <th>124_DSMA</th>\n",
       "      <th>SRT</th>\n",
       "    </tr>\n",
       "    <tr>\n",
       "      <th>Year</th>\n",
       "      <th>Week_Number</th>\n",
       "      <th></th>\n",
       "      <th></th>\n",
       "      <th></th>\n",
       "      <th></th>\n",
       "      <th></th>\n",
       "      <th></th>\n",
       "      <th></th>\n",
       "      <th></th>\n",
       "    </tr>\n",
       "  </thead>\n",
       "  <tbody>\n",
       "    <tr>\n",
       "      <th rowspan=\"2\" valign=\"top\">2022</th>\n",
       "      <th>9</th>\n",
       "      <td>2022</td>\n",
       "      <td>16481.60</td>\n",
       "      <td>16815.90</td>\n",
       "      <td>16133.80</td>\n",
       "      <td>16245.35</td>\n",
       "      <td>1.378081e+09</td>\n",
       "      <td>13745.516935</td>\n",
       "      <td>1.181865</td>\n",
       "    </tr>\n",
       "    <tr>\n",
       "      <th>10</th>\n",
       "      <td>2022</td>\n",
       "      <td>15867.95</td>\n",
       "      <td>16028.75</td>\n",
       "      <td>15671.45</td>\n",
       "      <td>16013.45</td>\n",
       "      <td>0.000000e+00</td>\n",
       "      <td>13778.765726</td>\n",
       "      <td>1.162183</td>\n",
       "    </tr>\n",
       "  </tbody>\n",
       "</table>\n",
       "</div>"
      ],
      "text/plain": [
       "                  Year      Open      High       Low     Close        Volume  \\\n",
       "Year Week_Number                                                               \n",
       "2022 9            2022  16481.60  16815.90  16133.80  16245.35  1.378081e+09   \n",
       "     10           2022  15867.95  16028.75  15671.45  16013.45  0.000000e+00   \n",
       "\n",
       "                      124_DSMA       SRT  \n",
       "Year Week_Number                          \n",
       "2022 9            13745.516935  1.181865  \n",
       "     10           13778.765726  1.162183  "
      ]
     },
     "execution_count": 13,
     "metadata": {},
     "output_type": "execute_result"
    }
   ],
   "source": [
    "# Calculating moving average, below is for 124 period to calculate SRT rest also can be calculated\n",
    "NIFTY_Wkly_Grp['124_DSMA'] = NIFTY_Wkly_Grp['Close'].rolling(window=124).mean()\n",
    "\n",
    "# Calculating SRT for each day\n",
    "NIFTY_Wkly_Grp['SRT'] = NIFTY_Wkly_Grp['Close']/NIFTY_Wkly_Grp['124_DSMA']\n",
    "\n",
    "NIFTY_Wkly_Grp.tail(2)"
   ]
  },
  {
   "cell_type": "code",
   "execution_count": null,
   "metadata": {},
   "outputs": [],
   "source": [
    "# NIFTY_opt.to_csv(\"OP_NIFTY_Historical_data.csv\")\n",
    "# Nifty_Weekly_Close.to_csv(\"Nifty_Weekly_Close.csv\")"
   ]
  },
  {
   "cell_type": "code",
   "execution_count": 15,
   "metadata": {},
   "outputs": [],
   "source": [
    "# Create a Pandas Excel writer using XlsxWriter as the engine.\n",
    "writer = pd.ExcelWriter('Nifty_EDA.xlsx', engine='xlsxwriter')"
   ]
  },
  {
   "cell_type": "code",
   "execution_count": 16,
   "metadata": {},
   "outputs": [],
   "source": [
    "# Write each dataframe to a different worksheet.\n",
    "NIFTY_Dly.to_excel(writer, sheet_name='NIFTY_Dly')\n",
    "NIFTY_Wkly_Grp.to_excel(writer, sheet_name='NIFTY_Wkly')\n",
    "# df3.to_excel(writer, sheet_name='Sheet3')\n",
    "\n",
    "# Close the Pandas Excel writer and output the Excel file.\n",
    "writer.save()"
   ]
  },
  {
   "cell_type": "code",
   "execution_count": 22,
   "metadata": {},
   "outputs": [
    {
     "name": "stdout",
     "output_type": "stream",
     "text": [
      "          SYMBOL SERIES     OPEN     HIGH      LOW    CLOSE     LAST  \\\n",
      "0      20MICRONS     EQ    30.45    31.00    30.25    30.40    30.40   \n",
      "1     3IINFOTECH     EQ     9.50    10.10     9.25     9.75     9.80   \n",
      "2        3MINDIA     EQ  6444.80  6529.15  6402.90  6504.60  6462.00   \n",
      "4        8KMILES     EQ   633.90   739.95   630.00   727.30   725.00   \n",
      "5       A2ZINFRA     EQ    17.10    18.00    17.05    18.00    18.00   \n",
      "...          ...    ...      ...      ...      ...      ...      ...   \n",
      "1571   ZODJRDMKJ     EQ    46.00    48.95    45.20    45.55    45.20   \n",
      "1572       ZUARI     EQ   260.50   270.00   258.00   267.30   266.85   \n",
      "1573   ZUARIGLOB     EQ   102.80   104.20   102.50   102.95   103.10   \n",
      "1574   ZYDUSWELL     EQ   819.00   826.85   808.85   811.40   810.00   \n",
      "1575       ZYLOG     EQ     6.60     6.80     6.50     6.70     6.80   \n",
      "\n",
      "      PREVCLOSE  TOTTRDQTY     TOTTRDVAL    TIMESTAMP  TOTALTRADES  \\\n",
      "0         30.60      37604  1.150221e+06  01-JAN-2015          200   \n",
      "1          9.45    5374064  5.238724e+07  01-JAN-2015         7437   \n",
      "2       6450.05        170  1.101650e+06  01-JAN-2015           75   \n",
      "4        629.80     327015  2.275663e+08  01-JAN-2015        14398   \n",
      "5         17.15     215038  3.857010e+06  01-JAN-2015          603   \n",
      "...         ...        ...           ...          ...          ...   \n",
      "1571      47.55        985  4.486065e+04  01-JAN-2015           12   \n",
      "1572     261.65       7355  1.947513e+06  01-JAN-2015          354   \n",
      "1573     103.10       5356  5.532687e+05  01-JAN-2015          206   \n",
      "1574     816.55      11541  9.428767e+06  01-JAN-2015          831   \n",
      "1575       6.60      89955  5.995882e+05  01-JAN-2015          196   \n",
      "\n",
      "              ISIN  \n",
      "0     INE144J01027  \n",
      "1     INE748C01020  \n",
      "2     INE470A01017  \n",
      "4     INE650K01013  \n",
      "5     INE619I01012  \n",
      "...            ...  \n",
      "1571  INE077B01018  \n",
      "1572  INE840M01016  \n",
      "1573  INE217A01012  \n",
      "1574  INE768C01010  \n",
      "1575  INE225I01026  \n",
      "\n",
      "[1433 rows x 13 columns]\n"
     ]
    }
   ],
   "source": [
    "from nsepy.history import get_price_list\n",
    "prices = get_price_list(dt=date(2015,1,1))\n",
    "print(prices)"
   ]
  },
  {
   "cell_type": "code",
   "execution_count": null,
   "metadata": {},
   "outputs": [],
   "source": []
  }
 ],
 "metadata": {
  "kernelspec": {
   "display_name": "Python 3 (ipykernel)",
   "language": "python",
   "name": "python3"
  },
  "language_info": {
   "codemirror_mode": {
    "name": "ipython",
    "version": 3
   },
   "file_extension": ".py",
   "mimetype": "text/x-python",
   "name": "python",
   "nbconvert_exporter": "python",
   "pygments_lexer": "ipython3",
   "version": "3.7.11"
  }
 },
 "nbformat": 4,
 "nbformat_minor": 4
}
