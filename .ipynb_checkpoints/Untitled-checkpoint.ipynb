{
 "cells": [
  {
   "cell_type": "code",
   "execution_count": 8,
   "id": "8050850e",
   "metadata": {},
   "outputs": [],
   "source": [
    "import pyodbc\n",
    "import textwrap"
   ]
  },
  {
   "cell_type": "code",
   "execution_count": 12,
   "id": "cf915613",
   "metadata": {},
   "outputs": [],
   "source": [
    "# spesify the driver\n",
    "driver = '{SQL Server}'\n",
    "server='tcp:nseserver.database.windows.net'\n",
    "database='NSE'\n",
    "username='nseserver'\n",
    "password = 'Bharat@312'"
   ]
  },
  {
   "cell_type": "code",
   "execution_count": 13,
   "id": "04b21016",
   "metadata": {},
   "outputs": [
    {
     "ename": "Error",
     "evalue": "('HY000', '[HY000] [Microsoft][ODBC SQL Server Driver][SQL Server]Cannot open server \"outlook.com\" requested by the login.  The login failed. (40532) (SQLDriverConnect); [HY000] [Microsoft][ODBC SQL Server Driver]Invalid connection string attribute (0); [HY000] [Microsoft][ODBC SQL Server Driver][SQL Server]Cannot open server \"outlook.com\" requested by the login.  The login failed. (40532); [HY000] [Microsoft][ODBC SQL Server Driver]Invalid connection string attribute (0)')",
     "output_type": "error",
     "traceback": [
      "\u001b[1;31m---------------------------------------------------------------------------\u001b[0m",
      "\u001b[1;31mError\u001b[0m                                     Traceback (most recent call last)",
      "\u001b[1;32m~\\AppData\\Local\\Temp/ipykernel_20248/8620897.py\u001b[0m in \u001b[0;36m<module>\u001b[1;34m\u001b[0m\n\u001b[1;32m----> 1\u001b[1;33m \u001b[0mcnxn\u001b[0m \u001b[1;33m=\u001b[0m \u001b[0mpyodbc\u001b[0m\u001b[1;33m.\u001b[0m\u001b[0mconnect\u001b[0m\u001b[1;33m(\u001b[0m\u001b[1;34m'DRIVER='\u001b[0m\u001b[1;33m+\u001b[0m\u001b[0mdriver\u001b[0m\u001b[1;33m+\u001b[0m\u001b[1;34m';SERVER='\u001b[0m\u001b[1;33m+\u001b[0m\u001b[0mserver\u001b[0m\u001b[1;33m+\u001b[0m\u001b[1;34m';PORT=1433;DATABASE='\u001b[0m\u001b[1;33m+\u001b[0m\u001b[0mdatabase\u001b[0m\u001b[1;33m+\u001b[0m\u001b[1;34m';UID='\u001b[0m\u001b[1;33m+\u001b[0m\u001b[0musername\u001b[0m\u001b[1;33m+\u001b[0m\u001b[1;34m';PWD='\u001b[0m\u001b[1;33m+\u001b[0m \u001b[0mpassword\u001b[0m\u001b[1;33m)\u001b[0m\u001b[1;33m\u001b[0m\u001b[1;33m\u001b[0m\u001b[0m\n\u001b[0m\u001b[0;32m      2\u001b[0m \u001b[0mcursor\u001b[0m \u001b[1;33m=\u001b[0m \u001b[0mcnxn\u001b[0m\u001b[1;33m.\u001b[0m\u001b[0mcursor\u001b[0m\u001b[1;33m(\u001b[0m\u001b[1;33m)\u001b[0m\u001b[1;33m\u001b[0m\u001b[1;33m\u001b[0m\u001b[0m\n\u001b[0;32m      3\u001b[0m \u001b[0mcursor\u001b[0m\u001b[1;33m.\u001b[0m\u001b[0mexecute\u001b[0m\u001b[1;33m(\u001b[0m\u001b[1;34m\"SELECT TOP 10 * FROM dbo.allOrders\"\u001b[0m\u001b[1;33m)\u001b[0m\u001b[1;33m\u001b[0m\u001b[1;33m\u001b[0m\u001b[0m\n\u001b[0;32m      4\u001b[0m \u001b[0mrow\u001b[0m \u001b[1;33m=\u001b[0m \u001b[0mcursor\u001b[0m\u001b[1;33m.\u001b[0m\u001b[0mfetchone\u001b[0m\u001b[1;33m(\u001b[0m\u001b[1;33m)\u001b[0m\u001b[1;33m\u001b[0m\u001b[1;33m\u001b[0m\u001b[0m\n\u001b[0;32m      5\u001b[0m \u001b[1;32mwhile\u001b[0m \u001b[0mrow\u001b[0m\u001b[1;33m:\u001b[0m\u001b[1;33m\u001b[0m\u001b[1;33m\u001b[0m\u001b[0m\n",
      "\u001b[1;31mError\u001b[0m: ('HY000', '[HY000] [Microsoft][ODBC SQL Server Driver][SQL Server]Cannot open server \"outlook.com\" requested by the login.  The login failed. (40532) (SQLDriverConnect); [HY000] [Microsoft][ODBC SQL Server Driver]Invalid connection string attribute (0); [HY000] [Microsoft][ODBC SQL Server Driver][SQL Server]Cannot open server \"outlook.com\" requested by the login.  The login failed. (40532); [HY000] [Microsoft][ODBC SQL Server Driver]Invalid connection string attribute (0)')"
     ]
    }
   ],
   "source": [
    "cnxn = pyodbc.connect('DRIVER='+driver+';SERVER='+server+';PORT=1433;DATABASE='+database+';UID='+username+';PWD='+ password)\n",
    "cursor = cnxn.cursor()\n",
    "cursor.execute(\"SELECT TOP 10 * FROM dbo.allOrders\")\n",
    "row = cursor.fetchone()\n",
    "while row:\n",
    "    print (str(row[0]) + \" \" + str(row[1]))\n",
    "    row = cursor.fetchone()"
   ]
  },
  {
   "cell_type": "code",
   "execution_count": null,
   "id": "3534d1c8",
   "metadata": {},
   "outputs": [],
   "source": []
  },
  {
   "cell_type": "code",
   "execution_count": 4,
   "id": "fef890df",
   "metadata": {},
   "outputs": [
    {
     "ename": "SyntaxError",
     "evalue": "EOL while scanning string literal (Temp/ipykernel_20248/2506363378.py, line 1)",
     "output_type": "error",
     "traceback": [
      "\u001b[1;36m  File \u001b[1;32m\"C:\\Users\\Anurag\\AppData\\Local\\Temp/ipykernel_20248/2506363378.py\"\u001b[1;36m, line \u001b[1;32m1\u001b[0m\n\u001b[1;33m    conxn_azur = (r\"Driver={ODBC Driver 13 for SQL Server};\u001b[0m\n\u001b[1;37m                                                           ^\u001b[0m\n\u001b[1;31mSyntaxError\u001b[0m\u001b[1;31m:\u001b[0m EOL while scanning string literal\n"
     ]
    }
   ],
   "source": [
    "conxn_azur = (r\"Driver={ODBC Driver 13 for SQL Server};\n",
    "              Server=tcp:nseserver.database.windows.net,\n",
    "              1433;Database=NSE;Uid={anuragsharma311@outlook.com};\n",
    "              Encrypt=yes;TrustServerCertificate=no;\n",
    "              Connection Timeout=30;Authentication=ActiveDirectoryIntegrated\")"
   ]
  },
  {
   "cell_type": "code",
   "execution_count": null,
   "id": "bb309515",
   "metadata": {},
   "outputs": [],
   "source": [
    "import pyodbc\n",
    "server = '<sql-server-name>.database.windows.net'\n",
    "database = '<database>'\n",
    "username = '<username>'\n",
    "password = '<password>'\n",
    "driver='{SQL Server}'\n",
    "\n",
    "cnxn = pyodbc.connect('DRIVER='+driver+';SERVER='+server+';PORT=1433;DATABASE='+database+';UID='+username+';PWD='+ password)\n",
    "cursor = cnxn.cursor()\n",
    "cursor.execute(\"SELECT TOP 10 * FROM dbo.allOrders\")\n",
    "row = cursor.fetchone()\n",
    "while row:\n",
    "    print (str(row[0]) + \" \" + str(row[1]))\n",
    "    row = cursor.fetchone()"
   ]
  }
 ],
 "metadata": {
  "kernelspec": {
   "display_name": "Python 3 (ipykernel)",
   "language": "python",
   "name": "python3"
  },
  "language_info": {
   "codemirror_mode": {
    "name": "ipython",
    "version": 3
   },
   "file_extension": ".py",
   "mimetype": "text/x-python",
   "name": "python",
   "nbconvert_exporter": "python",
   "pygments_lexer": "ipython3",
   "version": "3.7.11"
  }
 },
 "nbformat": 4,
 "nbformat_minor": 5
}
